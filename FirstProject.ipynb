{
 "cells": [
  {
   "cell_type": "markdown",
   "id": "7562d1bb-0a77-49a3-b86c-704de489c13a",
   "metadata": {},
   "source": [
    "<h1>My Jupyter Notebook on IBM Watson Studio</h1>"
   ]
  },
  {
   "cell_type": "markdown",
   "id": "c97f1e06-4517-484b-b777-0b7bbb16ffdf",
   "metadata": {},
   "source": [
    "**I am <b>Mesut TOSUNOGLU** I want to be Data Scientist"
   ]
  },
  {
   "cell_type": "markdown",
   "id": "1fb3d6da-1050-4335-944d-d7a9851c5647",
   "metadata": {},
   "source": [
    "*I am interested in data science because it is sexiest job in the 21st century. I believe problems will be solved using data* "
   ]
  },
  {
   "cell_type": "markdown",
   "id": "eb292490-f284-4b96-9ff8-76ad19999903",
   "metadata": {},
   "source": [
    "<h3>Output Of The Addition 4+9</h3>"
   ]
  },
  {
   "cell_type": "code",
   "execution_count": 4,
   "id": "57ae6f42-f7a8-4445-b69c-29f9021a102b",
   "metadata": {},
   "outputs": [
    {
     "name": "stdout",
     "output_type": "stream",
     "text": [
      "13\n"
     ]
    }
   ],
   "source": [
    "print(4+9)"
   ]
  },
  {
   "cell_type": "markdown",
   "id": "874db816-ab16-4c6a-a547-502ca5307379",
   "metadata": {},
   "source": [
    "### Horizontal line\n",
    "1. this\n",
    "2. is\n",
    "3. a\n",
    "4. numbered\n",
    "   1. sub\n",
    "   2. subs\n",
    "   \n",
    "| TableHeader | TableHeader1 | TableHeader2 |\n",
    "| --- | --- | --- |\n",
    "| Value | Value2 | Value3 |"
   ]
  },
  {
   "cell_type": "code",
   "execution_count": null,
   "id": "3ee16599-b786-4621-9c79-ac60cabaa772",
   "metadata": {},
   "outputs": [],
   "source": []
  }
 ],
 "metadata": {
  "kernelspec": {
   "display_name": "Python",
   "language": "python",
   "name": "conda-env-python-py"
  },
  "language_info": {
   "codemirror_mode": {
    "name": "ipython",
    "version": 3
   },
   "file_extension": ".py",
   "mimetype": "text/x-python",
   "name": "python",
   "nbconvert_exporter": "python",
   "pygments_lexer": "ipython3",
   "version": "3.7.12"
  }
 },
 "nbformat": 4,
 "nbformat_minor": 5
}
